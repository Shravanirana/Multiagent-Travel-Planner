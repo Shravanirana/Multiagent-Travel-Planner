{
 "cells": [
  {
   "cell_type": "code",
   "execution_count": null,
   "id": "f983179c",
   "metadata": {},
   "outputs": [],
   "source": [
    "\n",
    "from utils.travel_api import load_locations, get_matching_cities\n",
    "\n",
    "from agents.location_agent import LocationAgent\n",
    "from agents.budget_agent import BudgetAgent\n",
    "from agents.schedule_agent import ScheduleAgent\n"
   ]
  },
  {
   "cell_type": "code",
   "execution_count": null,
   "id": "7ec50f67",
   "metadata": {},
   "outputs": [],
   "source": [
    "\n",
    "user_input = {\n",
    "    \"budget\": 1500,\n",
    "    \"duration\": 5,\n",
    "    \"interest\": \"art\",\n",
    "    \"continent\": \"Europe\"\n",
    "}\n"
   ]
  },
  {
   "cell_type": "code",
   "execution_count": null,
   "id": "baf69b3d",
   "metadata": {},
   "outputs": [],
   "source": [
    "\n",
    "# Initialize agents\n",
    "loc_agent = LocationAgent()\n",
    "budget_agent = BudgetAgent()\n",
    "schedule_agent = ScheduleAgent()\n",
    "\n",
    "# Run multi-agent system\n",
    "suggested_locations = loc_agent.suggest_locations(user_input)\n",
    "print(\" Suggested Locations:\")\n",
    "for loc in suggested_locations:\n",
    "    print(loc)\n"
   ]
  },
  {
   "cell_type": "code",
   "execution_count": null,
   "id": "f15a609f",
   "metadata": {},
   "outputs": [],
   "source": [
    "\n",
    "filtered_locations = budget_agent.filter(suggested_locations, user_input)\n",
    "print(\"\\n Filtered Locations (within budget):\")\n",
    "for loc in filtered_locations:\n",
    "    print(loc)\n"
   ]
  },
  {
   "cell_type": "code",
   "execution_count": null,
   "id": "f85070e0",
   "metadata": {},
   "outputs": [],
   "source": [
    "\n",
    "itinerary = schedule_agent.create_schedule(filtered_locations, user_input)\n",
    "print(\"\\n Final Itinerary:\")\n",
    "for day, plan in itinerary.items():\n",
    "    print(f\"{day}: {plan}\")\n"
   ]
  }
 ],
 "metadata": {
  "language_info": {
   "name": "python"
  }
 },
 "nbformat": 4,
 "nbformat_minor": 5
}
